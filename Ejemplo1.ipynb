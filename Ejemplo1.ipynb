{
 "cells": [
  {
   "cell_type": "code",
   "execution_count": 1,
   "metadata": {},
   "outputs": [],
   "source": [
    "cadena =\"loja es ciudad del ecuador\""
   ]
  },
  {
   "cell_type": "code",
   "execution_count": 2,
   "metadata": {},
   "outputs": [
    {
     "ename": "TypeError",
     "evalue": "'str' object is not callable",
     "output_type": "error",
     "traceback": [
      "\u001b[0;31m---------------------------------------------------------------------------\u001b[0m",
      "\u001b[0;31mTypeError\u001b[0m                                 Traceback (most recent call last)",
      "\u001b[0;32m<ipython-input-2-3e4b71e7251a>\u001b[0m in \u001b[0;36m<module>\u001b[0;34m()\u001b[0m\n\u001b[1;32m      1\u001b[0m \u001b[0;32mfor\u001b[0m \u001b[0mi\u001b[0m \u001b[0;32min\u001b[0m \u001b[0mcadena\u001b[0m\u001b[0;34m:\u001b[0m\u001b[0;34m\u001b[0m\u001b[0m\n\u001b[0;32m----> 2\u001b[0;31m     \u001b[0;32mprint\u001b[0m\u001b[0;34m\"la letra de la cadena es \"\u001b[0m\u001b[0;34m(\u001b[0m\u001b[0mi\u001b[0m\u001b[0;34m)\u001b[0m\u001b[0;34m\u001b[0m\u001b[0m\n\u001b[0m",
      "\u001b[0;31mTypeError\u001b[0m: 'str' object is not callable"
     ]
    }
   ],
   "source": [
    "for i in cadena:\n",
    "    print\"la letra de la cadena es \"(i)"
   ]
  },
  {
   "cell_type": "code",
   "execution_count": 6,
   "metadata": {},
   "outputs": [
    {
     "name": "stdout",
     "output_type": "stream",
     "text": [
      "la letra de la cadena es l\n",
      "la letra de la cadena es o\n",
      "la letra de la cadena es j\n",
      "la letra de la cadena es a\n",
      "la letra de la cadena es  \n",
      "la letra de la cadena es e\n",
      "la letra de la cadena es s\n",
      "la letra de la cadena es  \n",
      "la letra de la cadena es c\n",
      "la letra de la cadena es i\n",
      "la letra de la cadena es u\n",
      "la letra de la cadena es d\n",
      "la letra de la cadena es a\n",
      "la letra de la cadena es d\n",
      "la letra de la cadena es  \n",
      "la letra de la cadena es d\n",
      "la letra de la cadena es e\n",
      "la letra de la cadena es l\n",
      "la letra de la cadena es  \n",
      "la letra de la cadena es e\n",
      "la letra de la cadena es c\n",
      "la letra de la cadena es u\n",
      "la letra de la cadena es a\n",
      "la letra de la cadena es d\n",
      "la letra de la cadena es o\n",
      "la letra de la cadena es r\n"
     ]
    }
   ],
   "source": [
    "for i in cadena:\n",
    "    print\"la letra de la cadena es %s\" %(i)"
   ]
  },
  {
   "cell_type": "code",
   "execution_count": null,
   "metadata": {},
   "outputs": [],
   "source": []
  }
 ],
 "metadata": {
  "kernelspec": {
   "display_name": "Python 2",
   "language": "python",
   "name": "python2"
  },
  "language_info": {
   "codemirror_mode": {
    "name": "ipython",
    "version": 2
   },
   "file_extension": ".py",
   "mimetype": "text/x-python",
   "name": "python",
   "nbconvert_exporter": "python",
   "pygments_lexer": "ipython2",
   "version": "2.7.10"
  }
 },
 "nbformat": 4,
 "nbformat_minor": 2
}
