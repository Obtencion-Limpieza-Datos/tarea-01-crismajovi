{
 "cells": [
  {
   "cell_type": "code",
   "execution_count": 1,
   "metadata": {},
   "outputs": [
    {
     "name": "stderr",
     "output_type": "stream",
     "text": [
      "/Users/crismajovi/Desktop/EntornosDatos/env01/lib/python2.7/site-packages/pandas/_libs/__init__.py:4: RuntimeWarning: numpy.dtype size changed, may indicate binary incompatibility. Expected 96, got 88\n",
      "  from .tslib import iNaT, NaT, Timestamp, Timedelta, OutOfBoundsDatetime\n",
      "/Users/crismajovi/Desktop/EntornosDatos/env01/lib/python2.7/site-packages/pandas/__init__.py:26: RuntimeWarning: numpy.dtype size changed, may indicate binary incompatibility. Expected 96, got 88\n",
      "  from pandas._libs import (hashtable as _hashtable,\n",
      "/Users/crismajovi/Desktop/EntornosDatos/env01/lib/python2.7/site-packages/pandas/core/dtypes/common.py:6: RuntimeWarning: numpy.dtype size changed, may indicate binary incompatibility. Expected 96, got 88\n",
      "  from pandas._libs import algos, lib\n",
      "/Users/crismajovi/Desktop/EntornosDatos/env01/lib/python2.7/site-packages/pandas/core/util/hashing.py:7: RuntimeWarning: numpy.dtype size changed, may indicate binary incompatibility. Expected 96, got 88\n",
      "  from pandas._libs import hashing, tslib\n",
      "/Users/crismajovi/Desktop/EntornosDatos/env01/lib/python2.7/site-packages/pandas/core/indexes/base.py:7: RuntimeWarning: numpy.dtype size changed, may indicate binary incompatibility. Expected 96, got 88\n",
      "  from pandas._libs import (lib, index as libindex, tslib as libts,\n",
      "/Users/crismajovi/Desktop/EntornosDatos/env01/lib/python2.7/site-packages/pandas/tseries/offsets.py:21: RuntimeWarning: numpy.dtype size changed, may indicate binary incompatibility. Expected 96, got 88\n",
      "  import pandas._libs.tslibs.offsets as liboffsets\n",
      "/Users/crismajovi/Desktop/EntornosDatos/env01/lib/python2.7/site-packages/pandas/core/ops.py:16: RuntimeWarning: numpy.dtype size changed, may indicate binary incompatibility. Expected 96, got 88\n",
      "  from pandas._libs import algos as libalgos, ops as libops\n",
      "/Users/crismajovi/Desktop/EntornosDatos/env01/lib/python2.7/site-packages/pandas/core/indexes/interval.py:32: RuntimeWarning: numpy.dtype size changed, may indicate binary incompatibility. Expected 96, got 88\n",
      "  from pandas._libs.interval import (\n",
      "/Users/crismajovi/Desktop/EntornosDatos/env01/lib/python2.7/site-packages/pandas/core/internals.py:14: RuntimeWarning: numpy.dtype size changed, may indicate binary incompatibility. Expected 96, got 88\n",
      "  from pandas._libs import internals as libinternals\n",
      "/Users/crismajovi/Desktop/EntornosDatos/env01/lib/python2.7/site-packages/pandas/core/sparse/array.py:33: RuntimeWarning: numpy.dtype size changed, may indicate binary incompatibility. Expected 96, got 88\n",
      "  import pandas._libs.sparse as splib\n",
      "/Users/crismajovi/Desktop/EntornosDatos/env01/lib/python2.7/site-packages/pandas/core/window.py:36: RuntimeWarning: numpy.dtype size changed, may indicate binary incompatibility. Expected 96, got 88\n",
      "  import pandas._libs.window as _window\n",
      "/Users/crismajovi/Desktop/EntornosDatos/env01/lib/python2.7/site-packages/pandas/core/groupby/groupby.py:68: RuntimeWarning: numpy.dtype size changed, may indicate binary incompatibility. Expected 96, got 88\n",
      "  from pandas._libs import (lib, reduction,\n",
      "/Users/crismajovi/Desktop/EntornosDatos/env01/lib/python2.7/site-packages/pandas/core/reshape/reshape.py:30: RuntimeWarning: numpy.dtype size changed, may indicate binary incompatibility. Expected 96, got 88\n",
      "  from pandas._libs import algos as _algos, reshape as _reshape\n",
      "/Users/crismajovi/Desktop/EntornosDatos/env01/lib/python2.7/site-packages/pandas/io/parsers.py:45: RuntimeWarning: numpy.dtype size changed, may indicate binary incompatibility. Expected 96, got 88\n",
      "  import pandas._libs.parsers as parsers\n",
      "/Users/crismajovi/Desktop/EntornosDatos/env01/lib/python2.7/site-packages/pandas/io/pytables.py:50: RuntimeWarning: numpy.dtype size changed, may indicate binary incompatibility. Expected 96, got 88\n",
      "  from pandas._libs import algos, lib, writers as libwriters\n"
     ]
    }
   ],
   "source": [
    "import ipywidgets as widgets\n",
    "import pandas as pd"
   ]
  },
  {
   "cell_type": "code",
   "execution_count": 3,
   "metadata": {},
   "outputs": [
    {
     "name": "stdout",
     "output_type": "stream",
     "text": [
      "Index([u'Provincia', u'Canton', u'Parroquia', u'Femenino', u'Masculino',\n",
      "       u'Textbox17', u'Textbox6', u'Textbox7', u'Textbox18'],\n",
      "      dtype='object')\n"
     ]
    },
    {
     "data": {
      "text/plain": [
       "array(['CAMILO PONCE ENRIQUEZ', 'CHORDELEG', 'CUENCA', 'EL PAN', 'GIRON',\n",
       "       'GUACHAPALA', 'GUALACEO', 'NABON', 'O\\xc3\\x91A', 'PAUTE', 'PUCARA',\n",
       "       'SAN FERNANDO', 'SANTA ISABEL', 'SEVILLA DE ORO', 'SIGSIG',\n",
       "       'CALUMA', 'CHILLANES', 'CHIMBO', 'ECHEANDIA', 'GUARANDA',\n",
       "       'LAS NAVES', 'SAN MIGUEL', 'AZOGUES', 'BIBLIAN', 'CA\\xc3\\x91AR',\n",
       "       'DELEG', 'EL TAMBO', 'LA TRONCAL', 'SUSCAL', 'BOLIVAR', 'ESPEJO',\n",
       "       'MIRA', 'MONTUFAR', 'SAN PEDRO DE HUACA', 'TULCAN', 'ALAUSI',\n",
       "       'CHAMBO', 'CHUNCHI', 'COLTA', 'CUMANDA', 'GUAMOTE', 'GUANO',\n",
       "       'PALLATANGA', 'PENIPE', 'RIOBAMBA', 'LA MANA', 'LATACUNGA',\n",
       "       'PANGUA', 'PUJILI', 'SALCEDO', 'SAQUISILI', 'SIGCHOS', 'ARENILLAS',\n",
       "       'ATAHUALPA', 'BALSAS', 'CHILLA', 'EL GUABO', 'HUAQUILLAS',\n",
       "       'LAS LAJAS', 'MACHALA', 'MARCABELI', 'PASAJE', 'PI\\xc3\\x91AS',\n",
       "       'PORTOVELO', 'SANTA ROSA', 'ZARUMA', 'ATACAMES', 'ELOY ALFARO',\n",
       "       'ESMERALDAS', 'LA CONCORDIA', 'MUISNE', 'QUININDE', 'RIOVERDE',\n",
       "       'SAN LORENZO', 'ISABELA', 'SAN CRISTOBAL', 'SANTA CRUZ',\n",
       "       'ALFREDO BAQUERIZO MORENO (JUJAN)', 'BALAO', 'BALZAR', 'COLIMES',\n",
       "       'CORONEL MARCELINO MARIDUE\\xc3\\x91A', 'DAULE', 'DURAN',\n",
       "       'EL TRIUNFO', 'EMPALME', 'GENERAL ANTONIO ELIZALDE', 'GUAYAQUIL',\n",
       "       'ISIDRO AYORA', 'LOMAS DE SARGENTILLO', 'MILAGRO', 'NARANJAL',\n",
       "       'NARANJITO', 'NOBOL', 'PALESTINA', 'PEDRO CARBO', 'PLAYAS',\n",
       "       'SALITRE', 'SAMBORONDON', 'SAN JACINTO DE YAGUACHI', 'SANTA LUCIA',\n",
       "       'SIMON BOLIVAR', 'ANTONIO ANTE', 'COTACACHI', 'IBARRA', 'OTAVALO',\n",
       "       'PIMAMPIRO', 'SAN MIGUEL DE URCUQUI', 'CALVAS', 'CATAMAYO',\n",
       "       'CELICA', 'CHAGUARPAMBA', 'ESPINDOLA', 'GONZANAMA', 'LOJA',\n",
       "       'MACARA', 'OLMEDO', 'PALTAS', 'PINDAL', 'PUYANGO', 'QUILANGA',\n",
       "       'SARAGURO', 'SOZORANGA', 'ZAPOTILLO', 'BABA', 'BABAHOYO',\n",
       "       'BUENA FE', 'MOCACHE', 'MONTALVO', 'PALENQUE', 'PUEBLOVIEJO',\n",
       "       'QUEVEDO', 'URDANETA', 'VALENCIA', 'VENTANAS', 'VINCES',\n",
       "       '24 DE MAYO', 'CHONE', 'EL CARMEN', 'FLAVIO ALFARO', 'JAMA',\n",
       "       'JARAMIJO', 'JIPIJAPA', 'JUNIN', 'MANTA', 'MONTECRISTI', 'PAJAN',\n",
       "       'PEDERNALES', 'PICHINCHA', 'PORTOVIEJO', 'PUERTO LOPEZ',\n",
       "       'ROCAFUERTE', 'SAN VICENTE', 'SANTA ANA', 'SUCRE', 'TOSAGUA',\n",
       "       'GUALAQUIZA', 'HUAMBOYA', 'LIMON INDANZA', 'LOGRO\\xc3\\x91O',\n",
       "       'MORONA', 'PABLO SEXTO', 'PALORA', 'SAN JUAN BOSCO', 'SANTIAGO',\n",
       "       'SUCUA', 'TAISHA', 'TIWINTZA', 'ARCHIDONA',\n",
       "       'CARLOS JULIO AROSEMENA TOLA', 'EL CHACO', 'QUIJOS', 'TENA',\n",
       "       'AGUARICO', 'LA JOYA DE LOS SACHAS', 'LORETO', 'ORELLANA',\n",
       "       'ARAJUNO', 'MERA', 'PASTAZA', 'SANTA CLARA', 'CAYAMBE', 'MEJIA',\n",
       "       'PEDRO MONCAYO', 'PEDRO VICENTE MALDONADO', 'PUERTO QUITO',\n",
       "       'QUITO', 'RUMI\\xc3\\x91AHUI', 'SAN MIGUEL DE LOS BANCOS',\n",
       "       'LA LIBERTAD', 'SALINAS', 'SANTA ELENA',\n",
       "       'SANTO DOMINGO DE LOS TSACHILAS', 'CASCALES', 'CUYABENO',\n",
       "       'GONZALO PIZARRO', 'LAGO AGRIO', 'PUTUMAYO', 'SHUSHUFINDI',\n",
       "       'SUCUMBIOS', 'AMBATO', 'BA\\xc3\\x91OS DE AGUA SANTA', 'CEVALLOS',\n",
       "       'MOCHA', 'PATATE', 'QUERO', 'SAN PEDRO DE PELILEO',\n",
       "       'SANTIAGO DE PILLARO', 'TISALEO', 'CENTINELA DEL CONDOR',\n",
       "       'CHINCHIPE', 'EL PANGUI', 'NANGARITZA', 'PALANDA', 'PAQUISHA',\n",
       "       'YACUAMBI', 'YANTZAZA (YANZATZA)', 'ZAMORA'], dtype=object)"
      ]
     },
     "execution_count": 3,
     "metadata": {},
     "output_type": "execute_result"
    }
   ],
   "source": [
    "data = pd.read_csv(\"data/data-educacion-ecuador.csv\")\n",
    "print data.keys()\n",
    "data.Canton.unique()"
   ]
  },
  {
   "cell_type": "code",
   "execution_count": null,
   "metadata": {},
   "outputs": [],
   "source": [
    "w = widgets.Dropdown(\n",
    "    options=['SARAGURO', 'SOZORANGA', 'ZAPOTILLO', 'BABA', 'BABAHOYO', 'CHINCHIPE','EL PANGUI', 'NANGARITZA', 'PALANDA', 'PAQUISHA'],\n",
    "    \n",
    "    value='SARAGURO',\n",
    "    description='Provincia:',\n",
    "    disabled=False,\n",
    ")\n",
    "display(w)"
   ]
  }
 ],
 "metadata": {
  "kernelspec": {
   "display_name": "Python 2",
   "language": "python",
   "name": "python2"
  },
  "language_info": {
   "codemirror_mode": {
    "name": "ipython",
    "version": 2
   },
   "file_extension": ".py",
   "mimetype": "text/x-python",
   "name": "python",
   "nbconvert_exporter": "python",
   "pygments_lexer": "ipython2",
   "version": "2.7.10"
  }
 },
 "nbformat": 4,
 "nbformat_minor": 2
}
